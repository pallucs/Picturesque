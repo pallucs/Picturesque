{
 "cells": [
  {
   "cell_type": "code",
   "execution_count": 1,
   "id": "8a6acc7d-1bf5-4785-aca1-c5421f2ae006",
   "metadata": {
    "scrolled": true,
    "tags": []
   },
   "outputs": [],
   "source": [
    "import pandas as pd\n",
    "import numpy as np\n",
    "from math import ceil,sin,cos,sqrt,pi\n",
    "class parser:\n",
    "    def __init__(self,filepath):\n",
    "        self.a3toa1={'GLN': 'Q', 'LYS': 'K', 'PRO': 'P', 'TYR': 'Y', 'GLU': 'E', 'THR': 'T', 'GLY': 'G', 'ILE': 'I', 'SER': 'S', 'HIS': 'H', 'ARG': 'R', 'ASP': 'D', 'MET': 'M', 'LEU': 'L', 'ASN': 'N', 'VAL': 'V', 'PHE': 'F', 'ALA': 'A', 'TRP': 'W', 'CYS': 'C', 'OCS': 'C', 'MSE': 'M', 'OCY': 'C', 'ACE': 'X', 'MLZ': 'K', 'FME': 'M', 'CXM': 'M', 'CME': 'C', 'KCX': 'K', 'PTR': 'Y', 'DDZ': 'A', 'LLP': 'K', 'MAA': 'A', 'MLY': 'K', 'CSO': 'C', 'CSS': 'C', 'PCA': 'Q', 'SEC': 'U', 'ALS': 'A', 'CSX': 'C', 'CSD': 'C', 'SEP': 'S', 'SCY': 'C', 'SNN': 'N', 'NEP': 'H', '0AF': 'W', 'NH2': 'X', 'PHD': 'D', 'KPI': 'K', 'HYP': 'P', 'SME': 'M', 'ZBZ': 'C', 'AYA': 'A', 'LP6': 'K', 'CAS': 'C', 'FOR': 'X', 'DAL': 'A', 'TPO': 'T', 'HIC': 'H', 'DAH': 'F', 'YCM': 'C', 'SNC': 'C', 'CS4': 'C', '2LT': 'Y', 'BCS': 'C', 'CYG': 'C', 'P1L': 'C', '2MR': 'R', 'BFD': 'D', 'MHS': 'H', 'GL3': 'G', 'MHO': 'M', 'XPC': 'X', 'B3E': 'E', 'XCP': 'X', 'CYD': 'C', 'NLE': 'L', 'ABA': 'A', 'TYI': 'Y', 'OMT': 'M', 'CSR': 'C', 'SMC': 'C', 'CGV': 'C', 'FGL': 'G', 'MSO': 'M', 'LYZ': 'K', 'PBF': 'F', 'AME': 'M', 'KYN': 'W', 'M3L': 'K', 'CSB': 'C', 'TRW': 'W', 'CSA': 'C', 'SC2': 'X', 'MEN': 'N', 'LED': 'L', 'SEB': 'S', 'TYS': 'Y', 'MLE': 'L', '9EV': 'X', 'SVY': 'S', 'MLI': 'X', 'PYL': 'O', 'CCS': 'C', 'ALY': 'K', 'APK': 'K', 'ACY': 'X', 'TY2': 'Y', 'DHA': 'S', 'TRN': 'W', 'ORN': 'A', 'ZAL': 'A', 'ALN': 'A', 'PXU': 'P', 'HS8': 'H', 'TNQ': 'W', 'PHI': 'F', 'QCS': 'C', 'OAS': 'S', 'TRQ': 'W', 'NIY': 'Y', 'DMG': 'X', 'MME': 'M', 'MIR': 'S', '4M9': 'X', 'PVO': 'X', 'TRO': 'W', 'IYR': 'Y', 'LCK': 'K', 'MYR': 'X', '4HH': 'S', 'CGN': 'X', '55I': 'F', 'UF0': 'S', 'AAR': 'R', 'GPL': 'K', 'PR7': 'P', '143': 'C', 'SAC': 'S', 'SCH': 'C', 'KYQ': 'K', 'OSE': 'S', 'KST': 'K', 'AGM': 'R', 'I2M': 'I', 'MGN': 'Q', 'CGU': 'E', 'LVN': 'V', 'FGP': 'S', 'CRO': 'X', 'CRQ': 'X', 'GYS': 'X', 'MDO': 'X', 'XYG': 'X', 'CR2': 'X', 'NRQ': 'X', 'KWS': 'X'}\n",
    "        self._parse_design_pdb(filepath)\n",
    "        self.feature_column=['fa_atr', 'fa_rep', 'fa_sol', 'fa_intra_rep', 'fa_intra_sol_xover4', 'lk_ball_wtd', 'fa_elec', 'pro_close', 'hbond_sr_bb', 'hbond_lr_bb', 'hbond_bb_sc', 'hbond_sc', 'dslf_fa13', 'omega', 'fa_dun', 'p_aa_pp', 'yhh_planarity', 'ref', 'rama_prepro']\n",
    "    def _parse_design_pdb(self,filepath):\n",
    "        data=[]\n",
    "        data1=[]\n",
    "        columns=['label', 'fa_atr', 'fa_rep', 'fa_sol', 'fa_intra_rep', 'fa_intra_sol_xover4', 'lk_ball_wtd', 'fa_elec', 'pro_close', 'hbond_sr_bb', 'hbond_lr_bb', 'hbond_bb_sc', 'hbond_sc', 'dslf_fa13', 'omega', 'fa_dun', 'p_aa_pp', 'yhh_planarity', 'ref', 'rama_prepro']\n",
    "        with open(filepath) as g:\n",
    "            lines = g.readlines()\n",
    "            parse=False\n",
    "            design_res=[]\n",
    "            \n",
    "            for line in lines:\n",
    "                if line[:6].strip()=='ATOM':\n",
    "                    atm_serial_num=line[6:11].strip()\n",
    "                    atm_name=line[12:16].strip()\n",
    "                    atm_altloc = line[16].strip()\n",
    "                    atm_resname = line[17:20].strip()\n",
    "                    atm_chainid = line[21].strip()\n",
    "                    atm_reseq = line[22:26].strip()\n",
    "                    atm_icode = line[26].strip()\n",
    "                    atm_x = line[30:38].strip()\n",
    "                    atm_y = line[38:46].strip()\n",
    "                    atm_z = line[46:54].strip()\n",
    "                    atm_occup = line[54:60].strip()\n",
    "                    atm_temp = line[60:66].strip()\n",
    "                    atm_element = line[76:78].strip()\n",
    "                    atm_charge = line[78:80].strip()\n",
    "                    data.append([atm_serial_num,atm_name,atm_altloc,atm_resname,atm_chainid,atm_reseq,atm_icode,atm_x,atm_y,atm_z,atm_occup,atm_temp,atm_element,atm_charge])\n",
    "                elif 'REMARK DesignRes' in line:\n",
    "                    design_res+=[x.strip() for x in line.split(',')[1:]]\n",
    "                elif '#BEGIN_POSE_ENERGIES_TABLE' in line:\n",
    "                    parse=True\n",
    "                elif '#END_POSE_ENERGIES_TABLE' in line:\n",
    "                    parse=False\n",
    "                elif parse:\n",
    "                    if 'label' in line or 'weights' in line:\n",
    "                        continue\n",
    "                    elif 'pose' in line:\n",
    "                        self.pose=line.strip().split(' ')[1:]\n",
    "                    else:\n",
    "                        data1.append(line.strip().split()[:-1])\n",
    "        df1=pd.DataFrame(data1,columns=columns)\n",
    "        df1['label']=df1['label'].apply(lambda x: x.split('_')[1])\n",
    "        df2=pd.DataFrame(data,columns=['atm_serial_num','atm_name','atm_altloc','atm_resname','atm_chainid','atm_reseq','atm_icode','atm_x','atm_y','atm_z','atm_occup','atm_temp','atm_element','atm_charge'])\n",
    "        df2['Design']=df2[['atm_reseq','atm_chainid']].agg(' '.join, axis=1)\n",
    "        df2['Design']=df2['Design'].apply(lambda x: True if x in design_res else False)\n",
    "        self.parsed_pdb = df2.merge(df1,right_on='label',left_on='atm_reseq',how='inner')\n",
    "    def get_pose(self):\n",
    "        columns=['fa_atr', 'fa_rep', 'fa_sol', 'fa_intra_rep', 'fa_intra_sol_xover4', 'lk_ball_wtd', 'fa_elec', 'pro_close', 'hbond_sr_bb', 'hbond_lr_bb', 'hbond_bb_sc', 'hbond_sc', 'dslf_fa13', 'omega', 'fa_dun', 'p_aa_pp', 'yhh_planarity', 'ref', 'rama_prepro']\n",
    "        return {x:float(self.pose[i]) for (i,x) in enumerate(columns)}\n",
    "    def get_design_seq(self):\n",
    "        design_residue=self.parsed_pdb[self.parsed_pdb['Design']]\n",
    "        return ''.join(self.a3toa1[y] for y in [ x['atm_resname'].unique()[0] for (_,x) in design_residue[['atm_resname','atm_reseq']].groupby(by='atm_reseq')])\n",
    "    def _make_grid(self,coords,feature,grid_resolution=1):\n",
    "        \"\"\"Convert atom coordinates and features represented as 2D arrays into a\n",
    "        fixed-sized 3D box.\n",
    "\n",
    "        Parameters\n",
    "        ----------\n",
    "        coords, features: array-likes, shape (N, 3) and (N, F)\n",
    "            Arrays with coordinates and features for each atoms.\n",
    "        grid_resolution: float, optional\n",
    "            Resolution of a grid (in Angstroms).\n",
    "        max_dist: float, optional\n",
    "            Maximum distance between atom and box center. Resulting box has size of\n",
    "            2*`max_dist`+1 Angstroms and atoms that are too far away are not\n",
    "            included.\n",
    "\n",
    "        Returns\n",
    "        -------\n",
    "        coords: np.ndarray, shape = (M, M, M, F)\n",
    "            4D array with atom properties distributed in 3D space. M is equal to\n",
    "            2 * max_dist / grid_resolution + 1\n",
    "        \"\"\"\n",
    "        coords=coords-np.mean(coords,axis=0)\n",
    "        coords = np.asarray(coords, dtype=np.float)\n",
    "        max_dist= np.max(coords) if np.max(coords)>abs(np.min(coords)) else abs(np.min(coords))\n",
    "        max_dist = float(max_dist)\n",
    "        grid_resolution = float(grid_resolution)\n",
    "        if max_dist<32:\n",
    "            max_dist=32.0\n",
    "        box_size = ceil(2 * max_dist / grid_resolution+1)\n",
    "        # move all atoms to the neares grid point\n",
    "        grid_coords = (coords + max_dist) / grid_resolution\n",
    "        grid_coords = grid_coords.round().astype(int)\n",
    "        # remove atoms outside the box\n",
    "        in_box = ((grid_coords >= 0) & (grid_coords < box_size)).all(axis=1)\n",
    "        feature=feature[in_box]\n",
    "        grid = np.zeros((19,box_size, box_size, box_size),\n",
    "                        dtype=np.float32)\n",
    "        for i,(x, y, z) in enumerate(grid_coords[in_box]):\n",
    "            grid[:,x, y, z] = feature[i,:]\n",
    "        return grid\n",
    "    def get_3dgrid(self):\n",
    "        feature=self.parsed_pdb[self.feature_column].to_numpy(dtype=float)\n",
    "        coords=self.parsed_pdb[['atm_x','atm_y','atm_z']].to_numpy(dtype=float)\n",
    "        return self._make_grid(coords=coords,feature=feature)"
   ]
  },
  {
   "cell_type": "code",
   "execution_count": 2,
   "id": "27939015-cf97-4949-9e0b-b5a0bac790aa",
   "metadata": {},
   "outputs": [
    {
     "name": "stderr",
     "output_type": "stream",
     "text": [
      "/tmp/ipykernel_38419/3156277627.py:82: DeprecationWarning: `np.float` is a deprecated alias for the builtin `float`. To silence this warning, use `float` by itself. Doing this will not modify any behavior and is safe. If you specifically wanted the numpy scalar type, use `np.float64` here.\n",
      "Deprecated in NumPy 1.20; for more details and guidance: https://numpy.org/devdocs/release/1.20.0-notes.html#deprecations\n",
      "  coords = np.asarray(coords, dtype=np.float)\n"
     ]
    },
    {
     "name": "stdout",
     "output_type": "stream",
     "text": [
      "******************Control 4HKX_relax_control_0001.pdb Design 4HKX_relax_design_0001.pdb************\n",
      "For fa_atr the control value -2445.07 is Lesser than Design Value -2434.67\n",
      "For fa_rep the control value 274.418 is Lesser than Design Value 275.298\n",
      "For lk_ball_wtd the control value -49.4342 is Lesser than Design Value -48.3477\n",
      "For fa_elec the control value -733.623 is Lesser than Design Value -729.32\n",
      "For hbond_bb_sc the control value -103.095 is Lesser than Design Value -101.479\n",
      "5\n",
      "***********************\n"
     ]
    },
    {
     "name": "stderr",
     "output_type": "stream",
     "text": [
      "/tmp/ipykernel_38419/3156277627.py:82: DeprecationWarning: `np.float` is a deprecated alias for the builtin `float`. To silence this warning, use `float` by itself. Doing this will not modify any behavior and is safe. If you specifically wanted the numpy scalar type, use `np.float64` here.\n",
      "Deprecated in NumPy 1.20; for more details and guidance: https://numpy.org/devdocs/release/1.20.0-notes.html#deprecations\n",
      "  coords = np.asarray(coords, dtype=np.float)\n"
     ]
    },
    {
     "name": "stdout",
     "output_type": "stream",
     "text": [
      "******************Control 4HKX_relax_control_0007.pdb Design 4HKX_relax_design_0007.pdb************\n",
      "For fa_atr the control value -2445.07 is Lesser than Design Value -2434.99\n",
      "For lk_ball_wtd the control value -49.4342 is Lesser than Design Value -48.761\n",
      "For fa_elec the control value -733.623 is Lesser than Design Value -732.473\n",
      "For hbond_bb_sc the control value -103.095 is Lesser than Design Value -101.522\n",
      "For ref the control value 137.617 is Lesser than Design Value 138.133\n",
      "5\n",
      "***********************\n"
     ]
    },
    {
     "name": "stderr",
     "output_type": "stream",
     "text": [
      "/tmp/ipykernel_38419/3156277627.py:82: DeprecationWarning: `np.float` is a deprecated alias for the builtin `float`. To silence this warning, use `float` by itself. Doing this will not modify any behavior and is safe. If you specifically wanted the numpy scalar type, use `np.float64` here.\n",
      "Deprecated in NumPy 1.20; for more details and guidance: https://numpy.org/devdocs/release/1.20.0-notes.html#deprecations\n",
      "  coords = np.asarray(coords, dtype=np.float)\n"
     ]
    },
    {
     "name": "stdout",
     "output_type": "stream",
     "text": [
      "******************Control 4HKX_relax_control_0009.pdb Design 4HKX_relax_design_0009.pdb************\n",
      "For fa_atr the control value -2445.07 is Lesser than Design Value -2437.96\n",
      "For lk_ball_wtd the control value -49.4342 is Lesser than Design Value -48.569\n",
      "For fa_elec the control value -733.623 is Lesser than Design Value -731.913\n",
      "For hbond_bb_sc the control value -103.095 is Lesser than Design Value -101.676\n",
      "For ref the control value 137.617 is Lesser than Design Value 138.122\n",
      "5\n",
      "***********************\n"
     ]
    },
    {
     "name": "stderr",
     "output_type": "stream",
     "text": [
      "/tmp/ipykernel_38419/3156277627.py:82: DeprecationWarning: `np.float` is a deprecated alias for the builtin `float`. To silence this warning, use `float` by itself. Doing this will not modify any behavior and is safe. If you specifically wanted the numpy scalar type, use `np.float64` here.\n",
      "Deprecated in NumPy 1.20; for more details and guidance: https://numpy.org/devdocs/release/1.20.0-notes.html#deprecations\n",
      "  coords = np.asarray(coords, dtype=np.float)\n"
     ]
    },
    {
     "name": "stdout",
     "output_type": "stream",
     "text": [
      "******************Control 4HKX_relax_control_0010.pdb Design 4HKX_relax_design_0010.pdb************\n",
      "For fa_atr the control value -2445.07 is Lesser than Design Value -2434.67\n",
      "For fa_rep the control value 274.418 is Lesser than Design Value 275.298\n",
      "For lk_ball_wtd the control value -49.4342 is Lesser than Design Value -48.3477\n",
      "For fa_elec the control value -733.623 is Lesser than Design Value -729.32\n",
      "For hbond_bb_sc the control value -103.095 is Lesser than Design Value -101.479\n",
      "5\n",
      "***********************\n"
     ]
    },
    {
     "name": "stderr",
     "output_type": "stream",
     "text": [
      "/tmp/ipykernel_38419/3156277627.py:82: DeprecationWarning: `np.float` is a deprecated alias for the builtin `float`. To silence this warning, use `float` by itself. Doing this will not modify any behavior and is safe. If you specifically wanted the numpy scalar type, use `np.float64` here.\n",
      "Deprecated in NumPy 1.20; for more details and guidance: https://numpy.org/devdocs/release/1.20.0-notes.html#deprecations\n",
      "  coords = np.asarray(coords, dtype=np.float)\n"
     ]
    },
    {
     "name": "stdout",
     "output_type": "stream",
     "text": [
      "******************Control 4HKX_relax_control_0005.pdb Design 4HKX_relax_design_0005.pdb************\n",
      "For fa_atr the control value -2445.07 is Lesser than Design Value -2434.67\n",
      "For fa_rep the control value 274.418 is Lesser than Design Value 275.298\n",
      "For lk_ball_wtd the control value -49.4342 is Lesser than Design Value -48.3477\n",
      "For fa_elec the control value -733.623 is Lesser than Design Value -729.32\n",
      "For hbond_bb_sc the control value -103.095 is Lesser than Design Value -101.479\n",
      "5\n",
      "***********************\n"
     ]
    },
    {
     "name": "stderr",
     "output_type": "stream",
     "text": [
      "/tmp/ipykernel_38419/3156277627.py:82: DeprecationWarning: `np.float` is a deprecated alias for the builtin `float`. To silence this warning, use `float` by itself. Doing this will not modify any behavior and is safe. If you specifically wanted the numpy scalar type, use `np.float64` here.\n",
      "Deprecated in NumPy 1.20; for more details and guidance: https://numpy.org/devdocs/release/1.20.0-notes.html#deprecations\n",
      "  coords = np.asarray(coords, dtype=np.float)\n"
     ]
    },
    {
     "name": "stdout",
     "output_type": "stream",
     "text": [
      "******************Control 4HKX_relax_control_0004.pdb Design 4HKX_relax_design_0004.pdb************\n",
      "For fa_atr the control value -2445.07 is Lesser than Design Value -2434.99\n",
      "For lk_ball_wtd the control value -49.4342 is Lesser than Design Value -48.761\n",
      "For fa_elec the control value -733.623 is Lesser than Design Value -732.473\n",
      "For hbond_bb_sc the control value -103.095 is Lesser than Design Value -101.522\n",
      "For ref the control value 137.617 is Lesser than Design Value 138.133\n",
      "5\n",
      "***********************\n"
     ]
    },
    {
     "name": "stderr",
     "output_type": "stream",
     "text": [
      "/tmp/ipykernel_38419/3156277627.py:82: DeprecationWarning: `np.float` is a deprecated alias for the builtin `float`. To silence this warning, use `float` by itself. Doing this will not modify any behavior and is safe. If you specifically wanted the numpy scalar type, use `np.float64` here.\n",
      "Deprecated in NumPy 1.20; for more details and guidance: https://numpy.org/devdocs/release/1.20.0-notes.html#deprecations\n",
      "  coords = np.asarray(coords, dtype=np.float)\n"
     ]
    },
    {
     "name": "stdout",
     "output_type": "stream",
     "text": [
      "******************Control 4HKX_relax_control_0008.pdb Design 4HKX_relax_design_0008.pdb************\n",
      "For fa_atr the control value -2445.07 is Lesser than Design Value -2440.05\n",
      "For fa_rep the control value 274.418 is Lesser than Design Value 279.649\n",
      "For lk_ball_wtd the control value -49.4342 is Lesser than Design Value -49.216\n",
      "For fa_elec the control value -733.623 is Lesser than Design Value -720.963\n",
      "For hbond_bb_sc the control value -103.095 is Lesser than Design Value -100.291\n",
      "For hbond_sc the control value -72.6267 is Lesser than Design Value -71.3883\n",
      "For ref the control value 137.617 is Lesser than Design Value 142.643\n",
      "7\n",
      "***********************\n"
     ]
    },
    {
     "name": "stderr",
     "output_type": "stream",
     "text": [
      "/tmp/ipykernel_38419/3156277627.py:82: DeprecationWarning: `np.float` is a deprecated alias for the builtin `float`. To silence this warning, use `float` by itself. Doing this will not modify any behavior and is safe. If you specifically wanted the numpy scalar type, use `np.float64` here.\n",
      "Deprecated in NumPy 1.20; for more details and guidance: https://numpy.org/devdocs/release/1.20.0-notes.html#deprecations\n",
      "  coords = np.asarray(coords, dtype=np.float)\n"
     ]
    },
    {
     "name": "stdout",
     "output_type": "stream",
     "text": [
      "******************Control 4HKX_relax_control_0003.pdb Design 4HKX_relax_design_0003.pdb************\n",
      "For fa_atr the control value -2445.07 is Lesser than Design Value -2434.99\n",
      "For lk_ball_wtd the control value -49.4342 is Lesser than Design Value -48.761\n",
      "For fa_elec the control value -733.623 is Lesser than Design Value -732.473\n",
      "For hbond_bb_sc the control value -103.095 is Lesser than Design Value -101.522\n",
      "For ref the control value 137.617 is Lesser than Design Value 138.133\n",
      "5\n",
      "***********************\n"
     ]
    },
    {
     "name": "stderr",
     "output_type": "stream",
     "text": [
      "/tmp/ipykernel_38419/3156277627.py:82: DeprecationWarning: `np.float` is a deprecated alias for the builtin `float`. To silence this warning, use `float` by itself. Doing this will not modify any behavior and is safe. If you specifically wanted the numpy scalar type, use `np.float64` here.\n",
      "Deprecated in NumPy 1.20; for more details and guidance: https://numpy.org/devdocs/release/1.20.0-notes.html#deprecations\n",
      "  coords = np.asarray(coords, dtype=np.float)\n"
     ]
    },
    {
     "name": "stdout",
     "output_type": "stream",
     "text": [
      "******************Control 4HKX_relax_control_0006.pdb Design 4HKX_relax_design_0006.pdb************\n",
      "For fa_atr the control value -2445.07 is Lesser than Design Value -2437.96\n",
      "For lk_ball_wtd the control value -49.4342 is Lesser than Design Value -48.569\n",
      "For fa_elec the control value -733.623 is Lesser than Design Value -731.913\n",
      "For hbond_bb_sc the control value -103.095 is Lesser than Design Value -101.676\n",
      "For ref the control value 137.617 is Lesser than Design Value 138.122\n",
      "5\n",
      "***********************\n",
      "******************Control 4HKX_relax_control_0002.pdb Design 4HKX_relax_design_0002.pdb************\n",
      "For fa_atr the control value -2445.07 is Lesser than Design Value -2434.99\n",
      "For lk_ball_wtd the control value -49.4342 is Lesser than Design Value -48.761\n",
      "For fa_elec the control value -733.623 is Lesser than Design Value -732.473\n",
      "For hbond_bb_sc the control value -103.095 is Lesser than Design Value -101.522\n",
      "For ref the control value 137.617 is Lesser than Design Value 138.133\n",
      "5\n",
      "***********************\n"
     ]
    },
    {
     "name": "stderr",
     "output_type": "stream",
     "text": [
      "/tmp/ipykernel_38419/3156277627.py:82: DeprecationWarning: `np.float` is a deprecated alias for the builtin `float`. To silence this warning, use `float` by itself. Doing this will not modify any behavior and is safe. If you specifically wanted the numpy scalar type, use `np.float64` here.\n",
      "Deprecated in NumPy 1.20; for more details and guidance: https://numpy.org/devdocs/release/1.20.0-notes.html#deprecations\n",
      "  coords = np.asarray(coords, dtype=np.float)\n"
     ]
    }
   ],
   "source": [
    "import os\n",
    "import csv \n",
    "\n",
    "dir_control = 'control'\n",
    "dir_design = 'design'\n",
    "design_list = []\n",
    "label_list = []\n",
    "\n",
    "for file_control in os.listdir(dir_control) :\n",
    "    count = 0\n",
    "    file_design=file_control.replace('control','design')\n",
    "    control=parser('control/'+file_control)\n",
    "    design=parser('design/'+file_design)\n",
    "    des_arr = design.get_3dgrid()\n",
    "    np.save(f'grid/{file_design}.npy', des_arr)\n",
    "    print(f'******************Control {file_control} Design {file_design}************')\n",
    "    c_pose=control.get_pose()\n",
    "    d_pose=design.get_pose()\n",
    "    for keys in c_pose.keys():\n",
    "        if c_pose[keys]>d_pose[keys]:\n",
    "            # print(f'For {keys} the control value {c_pose[keys]} is Greater than Design Value {d_pose[keys]}')\n",
    "            continue\n",
    "        elif c_pose[keys]==d_pose[keys]:\n",
    "            continue\n",
    "            # print(f'For {keys} the control value {c_pose[keys]} is Equal with the  Design Value {d_pose[keys]}')\n",
    "        else:\n",
    "            count += 1\n",
    "            print(f'For {keys} the control value {c_pose[keys]} is Lesser than Design Value {d_pose[keys]}')\n",
    "    print(count)\n",
    "    if count <=5:\n",
    "        label_list.append(1)\n",
    "    else:\n",
    "        label_list.append(0)\n",
    "    print('***********************')\n",
    "    design_list.append(file_design)\n",
    "    \n",
    "file = open(\"ground-truth.txt\", \"w\")\n",
    "writer = csv.writer(file)\n",
    "\n",
    "for w in range(len(design_list)):\n",
    "  writer.writerow([design_list[w], label_list[w]])\n",
    "\n",
    "file.close()"
   ]
  },
  {
   "cell_type": "code",
   "execution_count": 3,
   "id": "cd9ddcac-6219-47de-ae46-a51d83c31d03",
   "metadata": {},
   "outputs": [
    {
     "data": {
      "text/html": [
       "<div>\n",
       "<style scoped>\n",
       "    .dataframe tbody tr th:only-of-type {\n",
       "        vertical-align: middle;\n",
       "    }\n",
       "\n",
       "    .dataframe tbody tr th {\n",
       "        vertical-align: top;\n",
       "    }\n",
       "\n",
       "    .dataframe thead th {\n",
       "        text-align: right;\n",
       "    }\n",
       "</style>\n",
       "<table border=\"1\" class=\"dataframe\">\n",
       "  <thead>\n",
       "    <tr style=\"text-align: right;\">\n",
       "      <th></th>\n",
       "      <th>4HKX_relax_design_0001.pdb</th>\n",
       "      <th>1</th>\n",
       "    </tr>\n",
       "  </thead>\n",
       "  <tbody>\n",
       "    <tr>\n",
       "      <th>0</th>\n",
       "      <td>4HKX_relax_design_0007.pdb</td>\n",
       "      <td>1</td>\n",
       "    </tr>\n",
       "    <tr>\n",
       "      <th>1</th>\n",
       "      <td>4HKX_relax_design_0009.pdb</td>\n",
       "      <td>1</td>\n",
       "    </tr>\n",
       "    <tr>\n",
       "      <th>2</th>\n",
       "      <td>4HKX_relax_design_0010.pdb</td>\n",
       "      <td>1</td>\n",
       "    </tr>\n",
       "    <tr>\n",
       "      <th>3</th>\n",
       "      <td>4HKX_relax_design_0005.pdb</td>\n",
       "      <td>1</td>\n",
       "    </tr>\n",
       "    <tr>\n",
       "      <th>4</th>\n",
       "      <td>4HKX_relax_design_0004.pdb</td>\n",
       "      <td>1</td>\n",
       "    </tr>\n",
       "    <tr>\n",
       "      <th>5</th>\n",
       "      <td>4HKX_relax_design_0008.pdb</td>\n",
       "      <td>0</td>\n",
       "    </tr>\n",
       "    <tr>\n",
       "      <th>6</th>\n",
       "      <td>4HKX_relax_design_0003.pdb</td>\n",
       "      <td>1</td>\n",
       "    </tr>\n",
       "    <tr>\n",
       "      <th>7</th>\n",
       "      <td>4HKX_relax_design_0006.pdb</td>\n",
       "      <td>1</td>\n",
       "    </tr>\n",
       "    <tr>\n",
       "      <th>8</th>\n",
       "      <td>4HKX_relax_design_0002.pdb</td>\n",
       "      <td>1</td>\n",
       "    </tr>\n",
       "  </tbody>\n",
       "</table>\n",
       "</div>"
      ],
      "text/plain": [
       "   4HKX_relax_design_0001.pdb  1\n",
       "0  4HKX_relax_design_0007.pdb  1\n",
       "1  4HKX_relax_design_0009.pdb  1\n",
       "2  4HKX_relax_design_0010.pdb  1\n",
       "3  4HKX_relax_design_0005.pdb  1\n",
       "4  4HKX_relax_design_0004.pdb  1\n",
       "5  4HKX_relax_design_0008.pdb  0\n",
       "6  4HKX_relax_design_0003.pdb  1\n",
       "7  4HKX_relax_design_0006.pdb  1\n",
       "8  4HKX_relax_design_0002.pdb  1"
      ]
     },
     "execution_count": 3,
     "metadata": {},
     "output_type": "execute_result"
    }
   ],
   "source": [
    "import pandas as pd\n",
    "\n",
    "data = pd.read_csv('ground-truth.txt')\n",
    "\n",
    "data.head(10)"
   ]
  },
  {
   "cell_type": "code",
   "execution_count": 4,
   "id": "40ce8f02-a2cd-4b34-b75c-fc9cdebfd180",
   "metadata": {},
   "outputs": [],
   "source": [
    "new_num_arr = np.load('grid/4HKX_relax_design_0001.pdb.npy')"
   ]
  },
  {
   "cell_type": "code",
   "execution_count": 6,
   "id": "d40415ff-da43-4572-a291-44f93ac9f595",
   "metadata": {},
   "outputs": [
    {
     "data": {
      "text/plain": [
       "(19, 85, 85, 85)"
      ]
     },
     "execution_count": 6,
     "metadata": {},
     "output_type": "execute_result"
    }
   ],
   "source": [
    "new_num_arr.shape"
   ]
  }
 ],
 "metadata": {
  "kernelspec": {
   "display_name": "Python 3 (ipykernel)",
   "language": "python",
   "name": "python3"
  },
  "language_info": {
   "codemirror_mode": {
    "name": "ipython",
    "version": 3
   },
   "file_extension": ".py",
   "mimetype": "text/x-python",
   "name": "python",
   "nbconvert_exporter": "python",
   "pygments_lexer": "ipython3",
   "version": "3.9.13"
  }
 },
 "nbformat": 4,
 "nbformat_minor": 5
}
