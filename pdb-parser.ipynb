{
 "cells": [
  {
   "cell_type": "code",
   "execution_count": 12,
   "id": "8a6acc7d-1bf5-4785-aca1-c5421f2ae006",
   "metadata": {
    "scrolled": true,
    "tags": []
   },
   "outputs": [],
   "source": [
    "import pandas as pd\n",
    "import numpy as np\n",
    "from math import ceil,sin,cos,sqrt,pi\n",
    "class parser:\n",
    "    def __init__(self,filepath):\n",
    "        self.a3toa1={'GLN': 'Q', 'LYS': 'K', 'PRO': 'P', 'TYR': 'Y', 'GLU': 'E', 'THR': 'T', 'GLY': 'G', 'ILE': 'I', 'SER': 'S', 'HIS': 'H', 'ARG': 'R', 'ASP': 'D', 'MET': 'M', 'LEU': 'L', 'ASN': 'N', 'VAL': 'V', 'PHE': 'F', 'ALA': 'A', 'TRP': 'W', 'CYS': 'C', 'OCS': 'C', 'MSE': 'M', 'OCY': 'C', 'ACE': 'X', 'MLZ': 'K', 'FME': 'M', 'CXM': 'M', 'CME': 'C', 'KCX': 'K', 'PTR': 'Y', 'DDZ': 'A', 'LLP': 'K', 'MAA': 'A', 'MLY': 'K', 'CSO': 'C', 'CSS': 'C', 'PCA': 'Q', 'SEC': 'U', 'ALS': 'A', 'CSX': 'C', 'CSD': 'C', 'SEP': 'S', 'SCY': 'C', 'SNN': 'N', 'NEP': 'H', '0AF': 'W', 'NH2': 'X', 'PHD': 'D', 'KPI': 'K', 'HYP': 'P', 'SME': 'M', 'ZBZ': 'C', 'AYA': 'A', 'LP6': 'K', 'CAS': 'C', 'FOR': 'X', 'DAL': 'A', 'TPO': 'T', 'HIC': 'H', 'DAH': 'F', 'YCM': 'C', 'SNC': 'C', 'CS4': 'C', '2LT': 'Y', 'BCS': 'C', 'CYG': 'C', 'P1L': 'C', '2MR': 'R', 'BFD': 'D', 'MHS': 'H', 'GL3': 'G', 'MHO': 'M', 'XPC': 'X', 'B3E': 'E', 'XCP': 'X', 'CYD': 'C', 'NLE': 'L', 'ABA': 'A', 'TYI': 'Y', 'OMT': 'M', 'CSR': 'C', 'SMC': 'C', 'CGV': 'C', 'FGL': 'G', 'MSO': 'M', 'LYZ': 'K', 'PBF': 'F', 'AME': 'M', 'KYN': 'W', 'M3L': 'K', 'CSB': 'C', 'TRW': 'W', 'CSA': 'C', 'SC2': 'X', 'MEN': 'N', 'LED': 'L', 'SEB': 'S', 'TYS': 'Y', 'MLE': 'L', '9EV': 'X', 'SVY': 'S', 'MLI': 'X', 'PYL': 'O', 'CCS': 'C', 'ALY': 'K', 'APK': 'K', 'ACY': 'X', 'TY2': 'Y', 'DHA': 'S', 'TRN': 'W', 'ORN': 'A', 'ZAL': 'A', 'ALN': 'A', 'PXU': 'P', 'HS8': 'H', 'TNQ': 'W', 'PHI': 'F', 'QCS': 'C', 'OAS': 'S', 'TRQ': 'W', 'NIY': 'Y', 'DMG': 'X', 'MME': 'M', 'MIR': 'S', '4M9': 'X', 'PVO': 'X', 'TRO': 'W', 'IYR': 'Y', 'LCK': 'K', 'MYR': 'X', '4HH': 'S', 'CGN': 'X', '55I': 'F', 'UF0': 'S', 'AAR': 'R', 'GPL': 'K', 'PR7': 'P', '143': 'C', 'SAC': 'S', 'SCH': 'C', 'KYQ': 'K', 'OSE': 'S', 'KST': 'K', 'AGM': 'R', 'I2M': 'I', 'MGN': 'Q', 'CGU': 'E', 'LVN': 'V', 'FGP': 'S', 'CRO': 'X', 'CRQ': 'X', 'GYS': 'X', 'MDO': 'X', 'XYG': 'X', 'CR2': 'X', 'NRQ': 'X', 'KWS': 'X'}\n",
    "        self._parse_design_pdb(filepath)\n",
    "        self.feature_column=['fa_atr', 'fa_rep', 'fa_sol', 'fa_intra_rep', 'fa_intra_sol_xover4', 'lk_ball_wtd', 'fa_elec', 'pro_close', 'hbond_sr_bb', 'hbond_lr_bb', 'hbond_bb_sc', 'hbond_sc', 'dslf_fa13', 'omega', 'fa_dun', 'p_aa_pp', 'yhh_planarity', 'ref', 'rama_prepro', 'total']\n",
    "\n",
    "    def _parse_design_pdb(self,filepath):\n",
    "        data=[]\n",
    "        data1=[]\n",
    "        columns=['label', 'fa_atr', 'fa_rep', 'fa_sol', 'fa_intra_rep', 'fa_intra_sol_xover4', 'lk_ball_wtd', 'fa_elec', 'pro_close', 'hbond_sr_bb', 'hbond_lr_bb', 'hbond_bb_sc', 'hbond_sc', 'dslf_fa13', 'omega', 'fa_dun', 'p_aa_pp', 'yhh_planarity', 'ref', 'rama_prepro', 'total']\n",
    "        with open(filepath) as g:\n",
    "            lines = g.readlines()\n",
    "            parse=False\n",
    "            design_res=[]\n",
    "            for line in lines:\n",
    "                if line[:6].strip()=='ATOM':\n",
    "                    atm_serial_num=line[6:11].strip()\n",
    "                    atm_name=line[12:16].strip()\n",
    "                    atm_altloc = line[16].strip()\n",
    "                    atm_resname = line[17:20].strip()\n",
    "                    atm_chainid = line[21].strip()\n",
    "                    atm_reseq = line[22:26].strip()\n",
    "                    atm_icode = line[26].strip()\n",
    "                    atm_x = line[30:38].strip()\n",
    "                    atm_y = line[38:46].strip()\n",
    "                    atm_z = line[46:54].strip()\n",
    "                    atm_occup = line[54:60].strip()\n",
    "                    atm_temp = line[60:66].strip()\n",
    "                    atm_element = line[76:78].strip()\n",
    "                    atm_charge = line[78:80].strip()\n",
    "                    data.append([atm_serial_num,atm_name,atm_altloc,atm_resname,atm_chainid,atm_reseq,atm_icode,atm_x,atm_y,atm_z,atm_occup,atm_temp,atm_element,atm_charge])\n",
    "                elif 'REMARK DesignRes' in line:\n",
    "                    design_res+=[x.strip() for x in line.split(',')[1:]]\n",
    "                elif '#BEGIN_POSE_ENERGIES_TABLE' in line:\n",
    "                    parse=True\n",
    "                elif '#END_POSE_ENERGIES_TABLE' in line:\n",
    "                    parse=False\n",
    "                elif parse:\n",
    "                    if 'label' in line or 'weights' in line or 'pose' in line:\n",
    "                        continue\n",
    "                    else:\n",
    "                        data1.append(line.strip().split())\n",
    "        df1=pd.DataFrame(data1,columns=columns)\n",
    "        df1['label']=df1['label'].apply(lambda x: x.split('_')[1])\n",
    "        df2=pd.DataFrame(data,columns=['atm_serial_num','atm_name','atm_altloc','atm_resname','atm_chainid','atm_reseq','atm_icode','atm_x','atm_y','atm_z','atm_occup','atm_temp','atm_element','atm_charge'])\n",
    "        df2['Design']=df2[['atm_reseq','atm_chainid']].agg(' '.join, axis=1)\n",
    "        df2['Design']=df2['Design'].apply(lambda x: True if x in design_res else False)\n",
    "        self.parsed_pdb = df2.merge(df1,right_on='label',left_on='atm_reseq',how='inner')\n",
    "    def get_design_seq(self):\n",
    "        design_residue=self.parsed_pdb[self.parsed_pdb['Design']]\n",
    "        return ''.join(self.a3toa1[y] for y in [ x['atm_resname'].unique()[0] for (_,x) in design_residue[['atm_resname','atm_reseq']].groupby(by='atm_reseq')])\n",
    "    def _make_grid(self,coords,feature,grid_resolution=1):\n",
    "        \"\"\"Convert atom coordinates and features represented as 2D arrays into a\n",
    "        fixed-sized 3D box.\n",
    "\n",
    "        Parameters\n",
    "        ----------\n",
    "        coords, features: array-likes, shape (N, 3) and (N, F)\n",
    "            Arrays with coordinates and features for each atoms.\n",
    "        grid_resolution: float, optional\n",
    "            Resolution of a grid (in Angstroms).\n",
    "        max_dist: float, optional\n",
    "            Maximum distance between atom and box center. Resulting box has size of\n",
    "            2*`max_dist`+1 Angstroms and atoms that are too far away are not\n",
    "            included.\n",
    "\n",
    "        Returns\n",
    "        -------\n",
    "        coords: np.ndarray, shape = (M, M, M, F)\n",
    "            4D array with atom properties distributed in 3D space. M is equal to\n",
    "            2 * max_dist / grid_resolution + 1\n",
    "        \"\"\"\n",
    "        coords=coords-np.mean(coords,axis=0)\n",
    "        coords = np.asarray(coords, dtype=np.float)\n",
    "        max_dist= np.max(coords) if np.max(coords)>abs(np.min(coords)) else abs(np.min(coords))\n",
    "        max_dist = float(max_dist)\n",
    "        grid_resolution = float(grid_resolution)\n",
    "        if max_dist<32:\n",
    "            max_dist=32.0\n",
    "        box_size = ceil(2 * max_dist / grid_resolution+1)\n",
    "        # move all atoms to the neares grid point\n",
    "        grid_coords = (coords + max_dist) / grid_resolution\n",
    "        grid_coords = grid_coords.round().astype(int)\n",
    "        # remove atoms outside the box\n",
    "        in_box = ((grid_coords >= 0) & (grid_coords < box_size)).all(axis=1)\n",
    "        feature=feature[in_box]\n",
    "        grid = np.zeros((20,box_size, box_size, box_size),\n",
    "                        dtype=np.float32)\n",
    "        for i,(x, y, z) in enumerate(grid_coords[in_box]):\n",
    "            grid[:,x, y, z] = feature[i,:]\n",
    "        return grid\n",
    "    def get_3dgrid(self):\n",
    "        feature=self.parsed_pdb[self.feature_column].to_numpy(dtype=float)\n",
    "        coords=self.parsed_pdb[['atm_x','atm_y','atm_z']].to_numpy(dtype=float)\n",
    "        return self._make_grid(coords=coords,feature=feature)"
   ]
  },
  {
   "cell_type": "code",
   "execution_count": 13,
   "id": "02f9d9a6-b3ea-4c21-964c-c5a3fefbb632",
   "metadata": {
    "tags": []
   },
   "outputs": [],
   "source": [
    "a=parser('4HKX_relax_design_0001.pdb')"
   ]
  },
  {
   "cell_type": "code",
   "execution_count": 21,
   "id": "43ee72d1-6ecd-4eb7-babe-23ebec8a1275",
   "metadata": {},
   "outputs": [
    {
     "data": {
      "text/plain": [
       "'NSVDYNRWADDTDENLSQ'"
      ]
     },
     "execution_count": 21,
     "metadata": {},
     "output_type": "execute_result"
    }
   ],
   "source": [
    "a.get_design_seq()"
   ]
  }
 ],
 "metadata": {
  "kernelspec": {
   "display_name": "Python 3 (ipykernel)",
   "language": "python",
   "name": "python3"
  },
  "language_info": {
   "codemirror_mode": {
    "name": "ipython",
    "version": 3
   },
   "file_extension": ".py",
   "mimetype": "text/x-python",
   "name": "python",
   "nbconvert_exporter": "python",
   "pygments_lexer": "ipython3",
   "version": "3.9.13"
  }
 },
 "nbformat": 4,
 "nbformat_minor": 5
}
